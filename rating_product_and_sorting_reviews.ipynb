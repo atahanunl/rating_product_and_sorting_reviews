{
 "cells": [
  {
   "cell_type": "code",
   "execution_count": 1,
   "outputs": [],
   "source": [
    "# Import necessary libraries\n",
    "import pandas as pd\n",
    "import matplotlib.pyplot as plt\n",
    "import seaborn as sns\n",
    "import math\n",
    "\n",
    "from scipy.stats import norm"
   ],
   "metadata": {
    "collapsed": false,
    "ExecuteTime": {
     "end_time": "2023-11-20T21:18:44.862530Z",
     "start_time": "2023-11-20T21:18:41.642017Z"
    }
   },
   "id": "24e22c6ba9aba6ae"
  },
  {
   "cell_type": "markdown",
   "source": [
    "# 1. Introduction"
   ],
   "metadata": {
    "collapsed": false
   },
   "id": "aaf5392f187be92b"
  },
  {
   "cell_type": "markdown",
   "source": [
    "## 1.1 Business Problem\n",
    "\n",
    "One of the pivotal challenges in the realm of e-commerce pertains to the accurate computation of post-purchase ratings for products. Addressing this issue not only fosters heightened customer satisfaction for the e-commerce platform but also serves to accentuate product visibility for sellers, thereby ensuring a seamless shopping experience for purchasers. Another noteworthy concern involves the appropriate sorting of product reviews. Given that misleading reviews can exert a direct impact on product sales, the repercussions encompass both financial losses and customer attrition. Effectively resolving these two foundational issues holds the promise of augmenting sales for e-commerce entities and sellers, while concurrently facilitating a frictionless completion of the purchasing journey for customers.\n"
   ],
   "metadata": {
    "collapsed": false
   },
   "id": "2b1df82a4990df34"
  },
  {
   "cell_type": "markdown",
   "source": [
    "## 1.2 Dataset Story\n",
    "\n",
    "This dataset comprises Amazon product information, including diverse metadata and product categories. Specifically, it features user ratings and reviews for the product within the electronics category that has garnered the highest number of reviews."
   ],
   "metadata": {
    "collapsed": false
   },
   "id": "ae57c2844638aa77"
  },
  {
   "cell_type": "markdown",
   "source": [
    "## 1.3 Features\n",
    "\n",
    "- `reviewerID` - Unique identifier for the reviewer\n",
    "- `asin` - Unique identifier for the product\n",
    "- `reviewerName` - Username of the reviewer\n",
    "- `helpful` - Degree of helpfulness of the review\n",
    "- `reviewText` - Detailed review text\n",
    "- `overall` - Overall rating given to the product\n",
    "- `summary` - Brief summary of the review\n",
    "- `unixReviewTime` - Timestamp of the review in Unix format\n",
    "- `reviewTime` - Human-readable timestamp of the review\n",
    "- `day_diff` - Number of days elapsed since the review\n",
    "- `helpful_yes` - Number of users finding the review helpful\n",
    "- `total_vote` - Total number of votes received by the review"
   ],
   "metadata": {
    "collapsed": false
   },
   "id": "c77a6515d0f59550"
  },
  {
   "cell_type": "markdown",
   "source": [
    "# 2. Data Handling"
   ],
   "metadata": {
    "collapsed": false
   },
   "id": "dd4937e3c3b28915"
  },
  {
   "cell_type": "markdown",
   "source": [
    "## 2.1 Loading Data"
   ],
   "metadata": {
    "collapsed": false
   },
   "id": "b6b616a7c0120e30"
  },
  {
   "cell_type": "code",
   "execution_count": 2,
   "outputs": [],
   "source": [
    "# Load the dataset\n",
    "reviews = pd.read_csv('amazon_review.csv', parse_dates=['reviewTime'])"
   ],
   "metadata": {
    "collapsed": false,
    "ExecuteTime": {
     "end_time": "2023-11-20T21:18:44.863281Z",
     "start_time": "2023-11-20T21:18:41.645358Z"
    }
   },
   "id": "cc216ddf6a529f1c"
  },
  {
   "cell_type": "code",
   "execution_count": 3,
   "outputs": [
    {
     "data": {
      "text/plain": "       reviewerID        asin  reviewerName helpful  \\\n0  A3SBTW3WS4IQSN  B007WTAJTO           NaN  [0, 0]   \n1  A18K1ODH1I2MVB  B007WTAJTO          0mie  [0, 0]   \n2  A2FII3I2MBMUIA  B007WTAJTO           1K3  [0, 0]   \n3   A3H99DFEG68SR  B007WTAJTO           1m2  [0, 0]   \n4  A375ZM4U047O79  B007WTAJTO  2&amp;1/2Men  [0, 0]   \n\n                                          reviewText  overall  \\\n0                                         No issues.      4.0   \n1  Purchased this for my device, it worked as adv...      5.0   \n2  it works as expected. I should have sprung for...      4.0   \n3  This think has worked out great.Had a diff. br...      5.0   \n4  Bought it with Retail Packaging, arrived legit...      5.0   \n\n                                  summary  unixReviewTime reviewTime  \\\n0                              Four Stars      1406073600 2014-07-23   \n1                           MOAR SPACE!!!      1382659200 2013-10-25   \n2               nothing to really say....      1356220800 2012-12-23   \n3  Great buy at this price!!!  *** UPDATE      1384992000 2013-11-21   \n4                        best deal around      1373673600 2013-07-13   \n\n   day_diff  helpful_yes  total_vote  \n0       138            0           0  \n1       409            0           0  \n2       715            0           0  \n3       382            0           0  \n4       513            0           0  ",
      "text/html": "<div>\n<style scoped>\n    .dataframe tbody tr th:only-of-type {\n        vertical-align: middle;\n    }\n\n    .dataframe tbody tr th {\n        vertical-align: top;\n    }\n\n    .dataframe thead th {\n        text-align: right;\n    }\n</style>\n<table border=\"1\" class=\"dataframe\">\n  <thead>\n    <tr style=\"text-align: right;\">\n      <th></th>\n      <th>reviewerID</th>\n      <th>asin</th>\n      <th>reviewerName</th>\n      <th>helpful</th>\n      <th>reviewText</th>\n      <th>overall</th>\n      <th>summary</th>\n      <th>unixReviewTime</th>\n      <th>reviewTime</th>\n      <th>day_diff</th>\n      <th>helpful_yes</th>\n      <th>total_vote</th>\n    </tr>\n  </thead>\n  <tbody>\n    <tr>\n      <th>0</th>\n      <td>A3SBTW3WS4IQSN</td>\n      <td>B007WTAJTO</td>\n      <td>NaN</td>\n      <td>[0, 0]</td>\n      <td>No issues.</td>\n      <td>4.0</td>\n      <td>Four Stars</td>\n      <td>1406073600</td>\n      <td>2014-07-23</td>\n      <td>138</td>\n      <td>0</td>\n      <td>0</td>\n    </tr>\n    <tr>\n      <th>1</th>\n      <td>A18K1ODH1I2MVB</td>\n      <td>B007WTAJTO</td>\n      <td>0mie</td>\n      <td>[0, 0]</td>\n      <td>Purchased this for my device, it worked as adv...</td>\n      <td>5.0</td>\n      <td>MOAR SPACE!!!</td>\n      <td>1382659200</td>\n      <td>2013-10-25</td>\n      <td>409</td>\n      <td>0</td>\n      <td>0</td>\n    </tr>\n    <tr>\n      <th>2</th>\n      <td>A2FII3I2MBMUIA</td>\n      <td>B007WTAJTO</td>\n      <td>1K3</td>\n      <td>[0, 0]</td>\n      <td>it works as expected. I should have sprung for...</td>\n      <td>4.0</td>\n      <td>nothing to really say....</td>\n      <td>1356220800</td>\n      <td>2012-12-23</td>\n      <td>715</td>\n      <td>0</td>\n      <td>0</td>\n    </tr>\n    <tr>\n      <th>3</th>\n      <td>A3H99DFEG68SR</td>\n      <td>B007WTAJTO</td>\n      <td>1m2</td>\n      <td>[0, 0]</td>\n      <td>This think has worked out great.Had a diff. br...</td>\n      <td>5.0</td>\n      <td>Great buy at this price!!!  *** UPDATE</td>\n      <td>1384992000</td>\n      <td>2013-11-21</td>\n      <td>382</td>\n      <td>0</td>\n      <td>0</td>\n    </tr>\n    <tr>\n      <th>4</th>\n      <td>A375ZM4U047O79</td>\n      <td>B007WTAJTO</td>\n      <td>2&amp;amp;1/2Men</td>\n      <td>[0, 0]</td>\n      <td>Bought it with Retail Packaging, arrived legit...</td>\n      <td>5.0</td>\n      <td>best deal around</td>\n      <td>1373673600</td>\n      <td>2013-07-13</td>\n      <td>513</td>\n      <td>0</td>\n      <td>0</td>\n    </tr>\n  </tbody>\n</table>\n</div>"
     },
     "execution_count": 3,
     "metadata": {},
     "output_type": "execute_result"
    }
   ],
   "source": [
    "# Display the first few rows\n",
    "reviews.head()"
   ],
   "metadata": {
    "collapsed": false,
    "ExecuteTime": {
     "end_time": "2023-11-20T21:18:44.864685Z",
     "start_time": "2023-11-20T21:18:41.697563Z"
    }
   },
   "id": "3e0fe1800386ce03"
  },
  {
   "cell_type": "markdown",
   "source": [
    "## 2.2 Inspecting Data"
   ],
   "metadata": {
    "collapsed": false
   },
   "id": "69cf482a71baeaf4"
  },
  {
   "cell_type": "code",
   "execution_count": 4,
   "outputs": [
    {
     "data": {
      "text/plain": "           overall  unixReviewTime     day_diff  helpful_yes   total_vote\ncount  4915.000000    4.915000e+03  4915.000000  4915.000000  4915.000000\nmean      4.587589    1.379465e+09   437.367040     1.311089     1.521465\nstd       0.996845    1.581857e+07   209.439871    41.619161    44.123095\nmin       1.000000    1.339200e+09     1.000000     0.000000     0.000000\n25%       5.000000    1.365898e+09   281.000000     0.000000     0.000000\n50%       5.000000    1.381277e+09   431.000000     0.000000     0.000000\n75%       5.000000    1.392163e+09   601.000000     0.000000     0.000000\nmax       5.000000    1.406074e+09  1064.000000  1952.000000  2020.000000",
      "text/html": "<div>\n<style scoped>\n    .dataframe tbody tr th:only-of-type {\n        vertical-align: middle;\n    }\n\n    .dataframe tbody tr th {\n        vertical-align: top;\n    }\n\n    .dataframe thead th {\n        text-align: right;\n    }\n</style>\n<table border=\"1\" class=\"dataframe\">\n  <thead>\n    <tr style=\"text-align: right;\">\n      <th></th>\n      <th>overall</th>\n      <th>unixReviewTime</th>\n      <th>day_diff</th>\n      <th>helpful_yes</th>\n      <th>total_vote</th>\n    </tr>\n  </thead>\n  <tbody>\n    <tr>\n      <th>count</th>\n      <td>4915.000000</td>\n      <td>4.915000e+03</td>\n      <td>4915.000000</td>\n      <td>4915.000000</td>\n      <td>4915.000000</td>\n    </tr>\n    <tr>\n      <th>mean</th>\n      <td>4.587589</td>\n      <td>1.379465e+09</td>\n      <td>437.367040</td>\n      <td>1.311089</td>\n      <td>1.521465</td>\n    </tr>\n    <tr>\n      <th>std</th>\n      <td>0.996845</td>\n      <td>1.581857e+07</td>\n      <td>209.439871</td>\n      <td>41.619161</td>\n      <td>44.123095</td>\n    </tr>\n    <tr>\n      <th>min</th>\n      <td>1.000000</td>\n      <td>1.339200e+09</td>\n      <td>1.000000</td>\n      <td>0.000000</td>\n      <td>0.000000</td>\n    </tr>\n    <tr>\n      <th>25%</th>\n      <td>5.000000</td>\n      <td>1.365898e+09</td>\n      <td>281.000000</td>\n      <td>0.000000</td>\n      <td>0.000000</td>\n    </tr>\n    <tr>\n      <th>50%</th>\n      <td>5.000000</td>\n      <td>1.381277e+09</td>\n      <td>431.000000</td>\n      <td>0.000000</td>\n      <td>0.000000</td>\n    </tr>\n    <tr>\n      <th>75%</th>\n      <td>5.000000</td>\n      <td>1.392163e+09</td>\n      <td>601.000000</td>\n      <td>0.000000</td>\n      <td>0.000000</td>\n    </tr>\n    <tr>\n      <th>max</th>\n      <td>5.000000</td>\n      <td>1.406074e+09</td>\n      <td>1064.000000</td>\n      <td>1952.000000</td>\n      <td>2020.000000</td>\n    </tr>\n  </tbody>\n</table>\n</div>"
     },
     "execution_count": 4,
     "metadata": {},
     "output_type": "execute_result"
    }
   ],
   "source": [
    "# Display basic statistics about the dataset\n",
    "reviews.describe()"
   ],
   "metadata": {
    "collapsed": false,
    "ExecuteTime": {
     "end_time": "2023-11-20T21:18:44.865979Z",
     "start_time": "2023-11-20T21:18:41.713515Z"
    }
   },
   "id": "a3fc9af19ea6d8fc"
  },
  {
   "cell_type": "code",
   "execution_count": 5,
   "outputs": [
    {
     "name": "stdout",
     "output_type": "stream",
     "text": [
      "<class 'pandas.core.frame.DataFrame'>\n",
      "RangeIndex: 4915 entries, 0 to 4914\n",
      "Data columns (total 12 columns):\n",
      " #   Column          Non-Null Count  Dtype         \n",
      "---  ------          --------------  -----         \n",
      " 0   reviewerID      4915 non-null   object        \n",
      " 1   asin            4915 non-null   object        \n",
      " 2   reviewerName    4914 non-null   object        \n",
      " 3   helpful         4915 non-null   object        \n",
      " 4   reviewText      4914 non-null   object        \n",
      " 5   overall         4915 non-null   float64       \n",
      " 6   summary         4915 non-null   object        \n",
      " 7   unixReviewTime  4915 non-null   int64         \n",
      " 8   reviewTime      4915 non-null   datetime64[ns]\n",
      " 9   day_diff        4915 non-null   int64         \n",
      " 10  helpful_yes     4915 non-null   int64         \n",
      " 11  total_vote      4915 non-null   int64         \n",
      "dtypes: datetime64[ns](1), float64(1), int64(4), object(6)\n",
      "memory usage: 460.9+ KB\n"
     ]
    }
   ],
   "source": [
    "# Display information about the dataset\n",
    "reviews.info()"
   ],
   "metadata": {
    "collapsed": false,
    "ExecuteTime": {
     "end_time": "2023-11-20T21:18:44.866772Z",
     "start_time": "2023-11-20T21:18:41.744139Z"
    }
   },
   "id": "a00ebd3154caad76"
  },
  {
   "cell_type": "code",
   "execution_count": 6,
   "outputs": [
    {
     "data": {
      "text/plain": "reviewerID        0\nasin              0\nreviewerName      1\nhelpful           0\nreviewText        1\noverall           0\nsummary           0\nunixReviewTime    0\nreviewTime        0\nday_diff          0\nhelpful_yes       0\ntotal_vote        0\ndtype: int64"
     },
     "execution_count": 6,
     "metadata": {},
     "output_type": "execute_result"
    }
   ],
   "source": [
    "# Identify columns with null values\n",
    "reviews.isnull().sum()"
   ],
   "metadata": {
    "collapsed": false,
    "ExecuteTime": {
     "end_time": "2023-11-20T21:18:44.872211Z",
     "start_time": "2023-11-20T21:18:41.748798Z"
    }
   },
   "id": "4731688f38e67e15"
  },
  {
   "cell_type": "code",
   "execution_count": 7,
   "outputs": [
    {
     "data": {
      "text/plain": "reviewerID        4915\nasin                 1\nreviewerName      4594\nhelpful             42\nreviewText        4912\noverall              5\nsummary           3885\nunixReviewTime     690\nreviewTime         690\nday_diff           690\nhelpful_yes         23\ntotal_vote          26\ndtype: int64"
     },
     "execution_count": 7,
     "metadata": {},
     "output_type": "execute_result"
    }
   ],
   "source": [
    "# Get the number of unique values in each column\n",
    "reviews.nunique()"
   ],
   "metadata": {
    "collapsed": false,
    "ExecuteTime": {
     "end_time": "2023-11-20T21:18:44.873364Z",
     "start_time": "2023-11-20T21:18:41.762230Z"
    }
   },
   "id": "49638ff79e76343c"
  },
  {
   "cell_type": "markdown",
   "source": [
    "## 2.3 Data Cleaning and Preprocessing"
   ],
   "metadata": {
    "collapsed": false
   },
   "id": "5ff3cde81c654125"
  },
  {
   "cell_type": "code",
   "execution_count": 8,
   "outputs": [
    {
     "data": {
      "text/plain": "          reviewerID        asin  reviewerName helpful  \\\n0     A3SBTW3WS4IQSN  B007WTAJTO           NaN  [0, 0]   \n1     A18K1ODH1I2MVB  B007WTAJTO          0mie  [0, 0]   \n2     A2FII3I2MBMUIA  B007WTAJTO           1K3  [0, 0]   \n3      A3H99DFEG68SR  B007WTAJTO           1m2  [0, 0]   \n4     A375ZM4U047O79  B007WTAJTO  2&amp;1/2Men  [0, 0]   \n...              ...         ...           ...     ...   \n4910  A2LBMKXRM5H2W9  B007WTAJTO        ZM \"J\"  [0, 0]   \n4911   ALGDLRUI1ZPCS  B007WTAJTO            Zo  [0, 0]   \n4912  A2MR1NI0ENW2AD  B007WTAJTO     Z S Liske  [0, 0]   \n4913  A37E6P3DSO9QJD  B007WTAJTO      Z Taylor  [0, 0]   \n4914   A8KGFTFQ86IBR  B007WTAJTO           Zza  [0, 0]   \n\n                                             reviewText  overall  \\\n0                                            No issues.      4.0   \n1     Purchased this for my device, it worked as adv...      5.0   \n2     it works as expected. I should have sprung for...      4.0   \n3     This think has worked out great.Had a diff. br...      5.0   \n4     Bought it with Retail Packaging, arrived legit...      5.0   \n...                                                 ...      ...   \n4910  I bought this Sandisk 16GB Class 10 to use wit...      1.0   \n4911  Used this for extending the capabilities of my...      5.0   \n4912  Great card that is very fast and reliable. It ...      5.0   \n4913  Good amount of space for the stuff I want to d...      5.0   \n4914  I've heard bad things about this 64gb Micro SD...      5.0   \n\n                                     summary  unixReviewTime reviewTime  \\\n0                                 Four Stars      1406073600 2014-07-23   \n1                              MOAR SPACE!!!      1382659200 2013-10-25   \n2                  nothing to really say....      1356220800 2012-12-23   \n3     Great buy at this price!!!  *** UPDATE      1384992000 2013-11-21   \n4                           best deal around      1373673600 2013-07-13   \n...                                      ...             ...        ...   \n4910                Do not waste your money.      1374537600 2013-07-23   \n4911                             Great item!      1377129600 2013-08-22   \n4912           Fast and reliable memory card      1396224000 2014-03-31   \n4913                       Great little card      1379289600 2013-09-16   \n4914                         So far so good.      1388620800 2014-02-01   \n\n      day_diff  helpful_yes  total_vote        quantile  \n0          138            0           0     Most Recent  \n1          409            0           0          Recent  \n2          715            0           0        Outdated  \n3          382            0           0          Recent  \n4          513            0           0  Somewhat Dated  \n...        ...          ...         ...             ...  \n4910       503            0           0  Somewhat Dated  \n4911       473            0           0  Somewhat Dated  \n4912       252            0           0     Most Recent  \n4913       448            0           0  Somewhat Dated  \n4914       310            0           0          Recent  \n\n[4915 rows x 13 columns]",
      "text/html": "<div>\n<style scoped>\n    .dataframe tbody tr th:only-of-type {\n        vertical-align: middle;\n    }\n\n    .dataframe tbody tr th {\n        vertical-align: top;\n    }\n\n    .dataframe thead th {\n        text-align: right;\n    }\n</style>\n<table border=\"1\" class=\"dataframe\">\n  <thead>\n    <tr style=\"text-align: right;\">\n      <th></th>\n      <th>reviewerID</th>\n      <th>asin</th>\n      <th>reviewerName</th>\n      <th>helpful</th>\n      <th>reviewText</th>\n      <th>overall</th>\n      <th>summary</th>\n      <th>unixReviewTime</th>\n      <th>reviewTime</th>\n      <th>day_diff</th>\n      <th>helpful_yes</th>\n      <th>total_vote</th>\n      <th>quantile</th>\n    </tr>\n  </thead>\n  <tbody>\n    <tr>\n      <th>0</th>\n      <td>A3SBTW3WS4IQSN</td>\n      <td>B007WTAJTO</td>\n      <td>NaN</td>\n      <td>[0, 0]</td>\n      <td>No issues.</td>\n      <td>4.0</td>\n      <td>Four Stars</td>\n      <td>1406073600</td>\n      <td>2014-07-23</td>\n      <td>138</td>\n      <td>0</td>\n      <td>0</td>\n      <td>Most Recent</td>\n    </tr>\n    <tr>\n      <th>1</th>\n      <td>A18K1ODH1I2MVB</td>\n      <td>B007WTAJTO</td>\n      <td>0mie</td>\n      <td>[0, 0]</td>\n      <td>Purchased this for my device, it worked as adv...</td>\n      <td>5.0</td>\n      <td>MOAR SPACE!!!</td>\n      <td>1382659200</td>\n      <td>2013-10-25</td>\n      <td>409</td>\n      <td>0</td>\n      <td>0</td>\n      <td>Recent</td>\n    </tr>\n    <tr>\n      <th>2</th>\n      <td>A2FII3I2MBMUIA</td>\n      <td>B007WTAJTO</td>\n      <td>1K3</td>\n      <td>[0, 0]</td>\n      <td>it works as expected. I should have sprung for...</td>\n      <td>4.0</td>\n      <td>nothing to really say....</td>\n      <td>1356220800</td>\n      <td>2012-12-23</td>\n      <td>715</td>\n      <td>0</td>\n      <td>0</td>\n      <td>Outdated</td>\n    </tr>\n    <tr>\n      <th>3</th>\n      <td>A3H99DFEG68SR</td>\n      <td>B007WTAJTO</td>\n      <td>1m2</td>\n      <td>[0, 0]</td>\n      <td>This think has worked out great.Had a diff. br...</td>\n      <td>5.0</td>\n      <td>Great buy at this price!!!  *** UPDATE</td>\n      <td>1384992000</td>\n      <td>2013-11-21</td>\n      <td>382</td>\n      <td>0</td>\n      <td>0</td>\n      <td>Recent</td>\n    </tr>\n    <tr>\n      <th>4</th>\n      <td>A375ZM4U047O79</td>\n      <td>B007WTAJTO</td>\n      <td>2&amp;amp;1/2Men</td>\n      <td>[0, 0]</td>\n      <td>Bought it with Retail Packaging, arrived legit...</td>\n      <td>5.0</td>\n      <td>best deal around</td>\n      <td>1373673600</td>\n      <td>2013-07-13</td>\n      <td>513</td>\n      <td>0</td>\n      <td>0</td>\n      <td>Somewhat Dated</td>\n    </tr>\n    <tr>\n      <th>...</th>\n      <td>...</td>\n      <td>...</td>\n      <td>...</td>\n      <td>...</td>\n      <td>...</td>\n      <td>...</td>\n      <td>...</td>\n      <td>...</td>\n      <td>...</td>\n      <td>...</td>\n      <td>...</td>\n      <td>...</td>\n      <td>...</td>\n    </tr>\n    <tr>\n      <th>4910</th>\n      <td>A2LBMKXRM5H2W9</td>\n      <td>B007WTAJTO</td>\n      <td>ZM \"J\"</td>\n      <td>[0, 0]</td>\n      <td>I bought this Sandisk 16GB Class 10 to use wit...</td>\n      <td>1.0</td>\n      <td>Do not waste your money.</td>\n      <td>1374537600</td>\n      <td>2013-07-23</td>\n      <td>503</td>\n      <td>0</td>\n      <td>0</td>\n      <td>Somewhat Dated</td>\n    </tr>\n    <tr>\n      <th>4911</th>\n      <td>ALGDLRUI1ZPCS</td>\n      <td>B007WTAJTO</td>\n      <td>Zo</td>\n      <td>[0, 0]</td>\n      <td>Used this for extending the capabilities of my...</td>\n      <td>5.0</td>\n      <td>Great item!</td>\n      <td>1377129600</td>\n      <td>2013-08-22</td>\n      <td>473</td>\n      <td>0</td>\n      <td>0</td>\n      <td>Somewhat Dated</td>\n    </tr>\n    <tr>\n      <th>4912</th>\n      <td>A2MR1NI0ENW2AD</td>\n      <td>B007WTAJTO</td>\n      <td>Z S Liske</td>\n      <td>[0, 0]</td>\n      <td>Great card that is very fast and reliable. It ...</td>\n      <td>5.0</td>\n      <td>Fast and reliable memory card</td>\n      <td>1396224000</td>\n      <td>2014-03-31</td>\n      <td>252</td>\n      <td>0</td>\n      <td>0</td>\n      <td>Most Recent</td>\n    </tr>\n    <tr>\n      <th>4913</th>\n      <td>A37E6P3DSO9QJD</td>\n      <td>B007WTAJTO</td>\n      <td>Z Taylor</td>\n      <td>[0, 0]</td>\n      <td>Good amount of space for the stuff I want to d...</td>\n      <td>5.0</td>\n      <td>Great little card</td>\n      <td>1379289600</td>\n      <td>2013-09-16</td>\n      <td>448</td>\n      <td>0</td>\n      <td>0</td>\n      <td>Somewhat Dated</td>\n    </tr>\n    <tr>\n      <th>4914</th>\n      <td>A8KGFTFQ86IBR</td>\n      <td>B007WTAJTO</td>\n      <td>Zza</td>\n      <td>[0, 0]</td>\n      <td>I've heard bad things about this 64gb Micro SD...</td>\n      <td>5.0</td>\n      <td>So far so good.</td>\n      <td>1388620800</td>\n      <td>2014-02-01</td>\n      <td>310</td>\n      <td>0</td>\n      <td>0</td>\n      <td>Recent</td>\n    </tr>\n  </tbody>\n</table>\n<p>4915 rows × 13 columns</p>\n</div>"
     },
     "execution_count": 8,
     "metadata": {},
     "output_type": "execute_result"
    }
   ],
   "source": [
    "# Categorize reviews into recency quantiles\n",
    "reviews['quantile'] = pd.qcut(reviews['day_diff'], q=[0, 0.25, 0.50, 0.75, 1.0],\n",
    "                              labels=['Most Recent', 'Recent', 'Somewhat Dated', 'Outdated'])\n",
    "\n",
    "reviews"
   ],
   "metadata": {
    "collapsed": false,
    "ExecuteTime": {
     "end_time": "2023-11-20T21:18:44.874718Z",
     "start_time": "2023-11-20T21:18:41.777911Z"
    }
   },
   "id": "a037581597609e48"
  },
  {
   "cell_type": "code",
   "execution_count": 9,
   "outputs": [],
   "source": [
    "# Calculate the number of users finding the review not helpful\n",
    "reviews['helpful_no'] = reviews['total_vote'] - reviews['helpful_yes']\n",
    "\n",
    "# Select columns to keep\n",
    "columns_to_keep = ['reviewTime', 'day_diff', 'overall', 'helpful_yes', 'helpful_no', 'total_vote',\n",
    "                   'quantile']\n",
    "\n",
    "# Create a new DataFrame with selected columns for improved visualization\n",
    "reviews = reviews[columns_to_keep].copy()"
   ],
   "metadata": {
    "collapsed": false,
    "ExecuteTime": {
     "end_time": "2023-11-20T21:18:44.875446Z",
     "start_time": "2023-11-20T21:18:41.799005Z"
    }
   },
   "id": "8c5f7114ff28f7f4"
  },
  {
   "cell_type": "code",
   "execution_count": 10,
   "outputs": [],
   "source": [
    "# Calculate the helpfulness score difference for each review\n",
    "reviews['helpfulness_score_diff'] = reviews.apply(lambda x: x['helpful_yes'] - x['helpful_no'], axis=1)"
   ],
   "metadata": {
    "collapsed": false,
    "ExecuteTime": {
     "end_time": "2023-11-20T21:18:44.876008Z",
     "start_time": "2023-11-20T21:18:41.803208Z"
    }
   },
   "id": "d64a65dff0acbc26"
  },
  {
   "cell_type": "code",
   "execution_count": 11,
   "outputs": [],
   "source": [
    "def calculate_rating_percentage(upvotes, downvotes):\n",
    "    \"\"\"\n",
    "    Calculate the percentage of positive ratings based on the number of upvotes and downvotes.\n",
    "\n",
    "    Parameters:\n",
    "    - upvotes (int): The number of upvotes.\n",
    "    - downvotes (int): The number of downvotes.\n",
    "\n",
    "    Returns:\n",
    "    float: The calculated percentage of positive ratings. Returns 0 if there are no votes.\n",
    "    \"\"\"\n",
    "    # Check if there are no votes to avoid division by zero\n",
    "    if upvotes + downvotes == 0:\n",
    "        return 0\n",
    "\n",
    "    # Calculate the percentage of positive ratings\n",
    "    rating_percentage = upvotes / (upvotes + downvotes)\n",
    "\n",
    "    return rating_percentage\n",
    "\n",
    "\n",
    "# Calculate the percentage of positive votes\n",
    "reviews['positive_vote_percentage'] = reviews.apply(\n",
    "    lambda x: calculate_rating_percentage(x['helpful_yes'], x['helpful_no']), axis=1)"
   ],
   "metadata": {
    "collapsed": false,
    "ExecuteTime": {
     "end_time": "2023-11-20T21:18:44.876440Z",
     "start_time": "2023-11-20T21:18:41.909302Z"
    }
   },
   "id": "937438e4782c1baa"
  },
  {
   "cell_type": "code",
   "execution_count": 12,
   "outputs": [],
   "source": [
    "def wilson_lower_bound(upvotes, downvotes, confidence=0.95):\n",
    "    \"\"\"\n",
    "    Calculate the Wilson Lower Bound (WLB) score, a metric for ranking items based on user votes.\n",
    "\n",
    "    The WLB score represents the lower bound of the confidence interval for the true positive rate\n",
    "    (upvote proportion) in a Bernoulli distribution. It is commonly used for ranking products or items\n",
    "    based on user feedback.\n",
    "\n",
    "    Parameters\n",
    "    ----------\n",
    "    upvotes : int\n",
    "        The number of positive votes (e.g., likes, thumbs up).\n",
    "    downvotes : int\n",
    "        The number of negative votes (e.g., dislikes, thumbs down).\n",
    "    confidence : float, optional\n",
    "        The confidence level for the interval, by default 0.95.\n",
    "\n",
    "    Returns\n",
    "    -------\n",
    "    float\n",
    "        The calculated Wilson Lower Bound score, providing a measure of item ranking based on user votes.\n",
    "    \"\"\"\n",
    "    # Total number of votes\n",
    "    n = upvotes + downvotes\n",
    "\n",
    "    # Check if there are no votes to avoid division by zero\n",
    "    if n == 0:\n",
    "        return 0\n",
    "\n",
    "    # Calculate the Z-score for the given confidence level\n",
    "    z = norm.ppf(1 - (1 - confidence) / 2)\n",
    "\n",
    "    # Estimate the proportion of positive votes\n",
    "    p_hat = 1.0 * upvotes / n\n",
    "\n",
    "    # Calculate the Wilson Lower Bound score\n",
    "    wilson_score = (p_hat + z ** 2 / (2 * n) - z * math.sqrt((p_hat * (1 - p_hat) + z ** 2 / (4 * n)) / n)) / (\n",
    "            1 + z ** 2 / n)\n",
    "\n",
    "    return wilson_score\n",
    "\n",
    "\n",
    "# Calculate the WLB score\n",
    "reviews['wilson_lower_bound'] = reviews.apply(lambda x: wilson_lower_bound(x['helpful_yes'], x['helpful_no']), axis=1)"
   ],
   "metadata": {
    "collapsed": false,
    "ExecuteTime": {
     "end_time": "2023-11-20T21:18:44.877594Z",
     "start_time": "2023-11-20T21:18:41.957940Z"
    }
   },
   "id": "2b3a79f8ec9f707"
  },
  {
   "cell_type": "code",
   "execution_count": 13,
   "outputs": [
    {
     "name": "stdout",
     "output_type": "stream",
     "text": [
      "Dataset Overview:\n",
      " - Total Columns: 10\n",
      " - Numerical Columns: 7\n",
      " - Numerical Columns Treated as Categorical: 1\n",
      " - Categorical Columns: 2\n",
      " - Columns with High Cardinality: 0\n"
     ]
    }
   ],
   "source": [
    "def categorize_columns(df, cat_th=10, high_card_th=20):\n",
    "    \"\"\"\n",
    "    Categorizes columns in a DataFrame based on specified thresholds.\n",
    "\n",
    "    Parameters:\n",
    "    - df: DataFrame\n",
    "    - cat_thresh: Threshold for considering a column as categorical (default is 10)\n",
    "    - high_card_thresh: Threshold for considering a categorical column as having high cardinality (default is 20)\n",
    "\n",
    "    Returns:\n",
    "    - cat_cols: List of categorical columns\n",
    "    - num_cols: List of numerical columns\n",
    "    - high_card_cat_cols: List of categorical columns with high cardinality\n",
    "    \"\"\"\n",
    "\n",
    "    # Identify categorical columns with high cardinality\n",
    "    high_card_cols = [col for col in df.columns if\n",
    "                      df[col].dtype in [\"category\", \"object\"] and df[col].nunique() > high_card_th]\n",
    "\n",
    "    # Identify numerical columns that are treated as categorical\n",
    "    num_but_cat_cols = [col for col in df.columns if\n",
    "                        df[col].dtype in [\"float64\", \"int64\"] and df[col].nunique() < cat_th]\n",
    "\n",
    "    # Identify categorical columns\n",
    "    cat_cols = [col for col in df.columns if\n",
    "                (df[col].dtype in [\"category\", \"object\", \"bool\"] and col not in high_card_cols) or\n",
    "                (col in num_but_cat_cols)]\n",
    "\n",
    "    # Identify numerical columns\n",
    "    num_cols = [col for col in df.columns if df[col].dtype in [\"float64\", \"int64\"] and col not in cat_cols]\n",
    "\n",
    "    # Print dataset overview\n",
    "    print(f\"Dataset Overview:\")\n",
    "    print(f\" - Total Columns: {df.shape[1]}\")\n",
    "    print(f\" - Numerical Columns: {len(num_cols)}\")\n",
    "    print(f\" - Numerical Columns Treated as Categorical: {len(num_but_cat_cols)}\")\n",
    "    print(f\" - Categorical Columns: {len(cat_cols)}\")\n",
    "    print(f\" - Columns with High Cardinality: {len(high_card_cols)}\")\n",
    "\n",
    "    return cat_cols, num_cols, high_card_cols\n",
    "\n",
    "\n",
    "# Categorize columns of the dataset\n",
    "cat_cols, num_cols, high_card_cols = categorize_columns(reviews)"
   ],
   "metadata": {
    "collapsed": false,
    "ExecuteTime": {
     "end_time": "2023-11-20T21:18:44.878143Z",
     "start_time": "2023-11-20T21:18:42.122342Z"
    }
   },
   "id": "6186a499b39fa853"
  },
  {
   "cell_type": "markdown",
   "source": [
    "# 3. Data Visualization"
   ],
   "metadata": {
    "collapsed": false
   },
   "id": "7685e6318fa89dfd"
  },
  {
   "cell_type": "code",
   "execution_count": 14,
   "outputs": [
    {
     "data": {
      "text/plain": "<Figure size 640x480 with 2 Axes>",
      "image/png": "[encoded data removed]"
     },
     "metadata": {},
     "output_type": "display_data"
    },
    {
     "name": "stdout",
     "output_type": "stream",
     "text": [
      "343     26\n",
      "160     23\n",
      "129     22\n",
      "310     21\n",
      "452     20\n",
      "        ..\n",
      "490      1\n",
      "836      1\n",
      "1033     1\n",
      "806      1\n",
      "138      1\n",
      "Name: day_diff, Length: 690, dtype: int64\n"
     ]
    },
    {
     "data": {
      "text/plain": "<Figure size 640x480 with 1 Axes>",
      "image/png": "[encoded data removed]"
     },
     "metadata": {},
     "output_type": "display_data"
    },
    {
     "name": "stdout",
     "output_type": "stream",
     "text": [
      "5.0    3922\n",
      "4.0     527\n",
      "1.0     244\n",
      "3.0     142\n",
      "2.0      80\n",
      "Name: overall, dtype: int64\n"
     ]
    },
    {
     "data": {
      "text/plain": "<Figure size 640x480 with 1 Axes>",
      "image/png": "[encoded data removed]"
     },
     "metadata": {},
     "output_type": "display_data"
    },
    {
     "name": "stdout",
     "output_type": "stream",
     "text": [
      "Most Recent       1236\n",
      "Somewhat Dated    1228\n",
      "Outdated          1228\n",
      "Recent            1223\n",
      "Name: quantile, dtype: int64\n"
     ]
    }
   ],
   "source": [
    "def summary_plots(df, num_cols=None, cat_cols=None, log_scale=False):\n",
    "    \"\"\"\n",
    "    Generate summary plots for numerical and categorical columns in a DataFrame.\n",
    "\n",
    "    Parameters:\n",
    "    - df (DataFrame): The DataFrame containing the data.\n",
    "    - num_cols (list, optional): List of numerical column names. Defaults to None.\n",
    "    - cat_cols (list, optional): List of categorical column names. Defaults to None.\n",
    "    \"\"\"\n",
    "\n",
    "    # Plot histograms and box plots for numerical columns\n",
    "    if num_cols is not None:\n",
    "        for col in num_cols:\n",
    "            # Create subplots for histograms and boxplots\n",
    "            fig, axes = plt.subplots(1, 2)\n",
    "\n",
    "            # Histogram\n",
    "            sns.histplot(df[col], bins=10, kde=True, color='darkgreen', ax=axes[0])\n",
    "            axes[0].set_title(f'Histogram for {col}')\n",
    "            axes[0].set_xlabel(col)\n",
    "            axes[0].set_ylabel('Frequency')\n",
    "            axes[0].set_yscale('log') if log_scale == True else _\n",
    "\n",
    "            # Box plot\n",
    "            sns.boxplot(df[col], color='mediumpurple', ax=axes[1])\n",
    "            axes[1].set_title(f'Box plot for {col}')\n",
    "            axes[1].set_xlabel(col)\n",
    "            axes[1].set_ylabel('Frequency')\n",
    "            axes[1].set_yscale('log') if log_scale == True else _\n",
    "\n",
    "            # Adjust layout\n",
    "            plt.tight_layout()\n",
    "\n",
    "            # Show the plots\n",
    "            plt.show()\n",
    "\n",
    "            # Display the counts of unique values in the column\n",
    "            print(df[col].value_counts())\n",
    "\n",
    "    # Plot count plots for categorical columns\n",
    "    if cat_cols is not None:\n",
    "        for col in cat_cols:\n",
    "            sns.countplot(x=col, data=df, palette='viridis')\n",
    "            plt.title(f'Count Plot for {col}')\n",
    "            plt.xlabel(col)\n",
    "            plt.ylabel('Count')\n",
    "            plt.yscale('log') if log_scale == True else _\n",
    "\n",
    "            # Show the plots\n",
    "            plt.show()\n",
    "\n",
    "            # Display the counts of unique values in the column\n",
    "            print(df[col].value_counts())\n",
    "\n",
    "\n",
    "# Generate summary plots for numerical and categorical columns\n",
    "summary_plots(reviews, ['day_diff'], ['overall', 'quantile'], log_scale=True)"
   ],
   "metadata": {
    "collapsed": false,
    "ExecuteTime": {
     "end_time": "2023-11-20T21:18:44.881364Z",
     "start_time": "2023-11-20T21:18:42.134263Z"
    }
   },
   "id": "7ac875a275b91217"
  },
  {
   "cell_type": "markdown",
   "source": [
    "# 4. Data Analysis"
   ],
   "metadata": {
    "collapsed": false
   },
   "id": "f654927d458d8d84"
  },
  {
   "cell_type": "markdown",
   "source": [
    "## 4.1 Rating Product"
   ],
   "metadata": {
    "collapsed": false
   },
   "id": "82d1ed133724e223"
  },
  {
   "cell_type": "code",
   "execution_count": 15,
   "outputs": [
    {
     "data": {
      "text/plain": "quantile\nMost Recent       4.695793\nRecent            4.636141\nSomewhat Dated    4.571661\nOutdated          4.446254\nName: overall, dtype: float64"
     },
     "execution_count": 15,
     "metadata": {},
     "output_type": "execute_result"
    }
   ],
   "source": [
    "# Calculate mean overall ratings for each recency quantile\n",
    "quantile_means = reviews.groupby('quantile')['overall'].mean()\n",
    "\n",
    "# Display mean ratings by recency\n",
    "quantile_means"
   ],
   "metadata": {
    "collapsed": false,
    "ExecuteTime": {
     "end_time": "2023-11-20T21:18:44.881779Z",
     "start_time": "2023-11-20T21:18:43.649252Z"
    }
   },
   "id": "a0eeb9352a36dc53"
  },
  {
   "cell_type": "code",
   "execution_count": 16,
   "outputs": [
    {
     "name": "stdout",
     "output_type": "stream",
     "text": [
      "Weighted average: 4.63\n"
     ]
    }
   ],
   "source": [
    "# Given weights for each quantile\n",
    "weights = [0.4, 0.3, 0.2, 0.1]\n",
    "\n",
    "# Calculate the weighted average\n",
    "weighted_average = 0\n",
    "for idx, w in enumerate(weights):\n",
    "    weighted_average += w * quantile_means[idx]\n",
    "\n",
    "# Display the calculated weighted average\n",
    "print(\"Weighted average:\", round(weighted_average, 2))"
   ],
   "metadata": {
    "collapsed": false,
    "ExecuteTime": {
     "end_time": "2023-11-20T21:18:44.882147Z",
     "start_time": "2023-11-20T21:18:43.662571Z"
    }
   },
   "id": "f4dfef572ec55f53"
  },
  {
   "cell_type": "markdown",
   "source": [
    "## 4.2 Sorting Reviews"
   ],
   "metadata": {
    "collapsed": false
   },
   "id": "d10a21fb865d871"
  },
  {
   "cell_type": "code",
   "execution_count": 17,
   "outputs": [
    {
     "data": {
      "text/plain": "     reviewTime  day_diff  overall  helpful_yes  helpful_no  total_vote  \\\n2031 2013-01-05       702      5.0         1952          68        2020   \n3449 2012-09-26       803      5.0         1428          77        1505   \n4212 2013-05-08       579      1.0         1568         126        1694   \n317  2012-02-09      1033      1.0          422          73         495   \n4672 2014-07-03       158      5.0           45           4          49   \n\n            quantile  helpfulness_score_diff  positive_vote_percentage  \\\n2031        Outdated                    1884                  0.966337   \n3449        Outdated                    1351                  0.948837   \n4212  Somewhat Dated                    1442                  0.925620   \n317         Outdated                     349                  0.852525   \n4672     Most Recent                      41                  0.918367   \n\n      wilson_lower_bound  \n2031            0.957544  \n3449            0.936519  \n4212            0.912139  \n317             0.818577  \n4672            0.808109  ",
      "text/html": "<div>\n<style scoped>\n    .dataframe tbody tr th:only-of-type {\n        vertical-align: middle;\n    }\n\n    .dataframe tbody tr th {\n        vertical-align: top;\n    }\n\n    .dataframe thead th {\n        text-align: right;\n    }\n</style>\n<table border=\"1\" class=\"dataframe\">\n  <thead>\n    <tr style=\"text-align: right;\">\n      <th></th>\n      <th>reviewTime</th>\n      <th>day_diff</th>\n      <th>overall</th>\n      <th>helpful_yes</th>\n      <th>helpful_no</th>\n      <th>total_vote</th>\n      <th>quantile</th>\n      <th>helpfulness_score_diff</th>\n      <th>positive_vote_percentage</th>\n      <th>wilson_lower_bound</th>\n    </tr>\n  </thead>\n  <tbody>\n    <tr>\n      <th>2031</th>\n      <td>2013-01-05</td>\n      <td>702</td>\n      <td>5.0</td>\n      <td>1952</td>\n      <td>68</td>\n      <td>2020</td>\n      <td>Outdated</td>\n      <td>1884</td>\n      <td>0.966337</td>\n      <td>0.957544</td>\n    </tr>\n    <tr>\n      <th>3449</th>\n      <td>2012-09-26</td>\n      <td>803</td>\n      <td>5.0</td>\n      <td>1428</td>\n      <td>77</td>\n      <td>1505</td>\n      <td>Outdated</td>\n      <td>1351</td>\n      <td>0.948837</td>\n      <td>0.936519</td>\n    </tr>\n    <tr>\n      <th>4212</th>\n      <td>2013-05-08</td>\n      <td>579</td>\n      <td>1.0</td>\n      <td>1568</td>\n      <td>126</td>\n      <td>1694</td>\n      <td>Somewhat Dated</td>\n      <td>1442</td>\n      <td>0.925620</td>\n      <td>0.912139</td>\n    </tr>\n    <tr>\n      <th>317</th>\n      <td>2012-02-09</td>\n      <td>1033</td>\n      <td>1.0</td>\n      <td>422</td>\n      <td>73</td>\n      <td>495</td>\n      <td>Outdated</td>\n      <td>349</td>\n      <td>0.852525</td>\n      <td>0.818577</td>\n    </tr>\n    <tr>\n      <th>4672</th>\n      <td>2014-07-03</td>\n      <td>158</td>\n      <td>5.0</td>\n      <td>45</td>\n      <td>4</td>\n      <td>49</td>\n      <td>Most Recent</td>\n      <td>41</td>\n      <td>0.918367</td>\n      <td>0.808109</td>\n    </tr>\n  </tbody>\n</table>\n</div>"
     },
     "execution_count": 17,
     "metadata": {},
     "output_type": "execute_result"
    }
   ],
   "source": [
    "reviews.sort_values(by='wilson_lower_bound', ascending=False).head()"
   ],
   "metadata": {
    "collapsed": false,
    "ExecuteTime": {
     "end_time": "2023-11-20T21:18:44.883726Z",
     "start_time": "2023-11-20T21:18:43.666653Z"
    }
   },
   "id": "598f358c56abac31"
  }
 ],
 "metadata": {
  "kernelspec": {
   "display_name": "Python 3",
   "language": "python",
   "name": "python3"
  },
  "language_info": {
   "codemirror_mode": {
    "name": "ipython",
    "version": 2
   },
   "file_extension": ".py",
   "mimetype": "text/x-python",
   "name": "python",
   "nbconvert_exporter": "python",
   "pygments_lexer": "ipython2",
   "version": "2.7.6"
  }
 },
 "nbformat": 4,
 "nbformat_minor": 5
}
